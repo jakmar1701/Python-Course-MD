{
 "cells": [
  {
   "cell_type": "markdown",
   "metadata": {},
   "source": [
    "# Lesson 5 - String Formatting"
   ]
  },
  {
   "cell_type": "markdown",
   "metadata": {},
   "source": [
    "# String Formatting"
   ]
  },
  {
   "cell_type": "code",
   "execution_count": 4,
   "metadata": {},
   "outputs": [],
   "source": [
    "word = 'word'\n",
    "sentence = \"This is a sentence.\"\n",
    "paragraph = \"\"\"This is a paragraph. It is\n",
    "made up of multiple lines and sentences.\"\"\""
   ]
  },
  {
   "cell_type": "code",
   "execution_count": 2,
   "metadata": {},
   "outputs": [
    {
     "name": "stdout",
     "output_type": "stream",
     "text": [
      "Name: John \n",
      "Surname: Smith\n"
     ]
    }
   ],
   "source": [
    "name = \"John\"\n",
    "surname = \"Smith\"\n",
    "print(\"Name: %s \\nSurname: %s\" % (name, surname))"
   ]
  },
  {
   "cell_type": "code",
   "execution_count": 5,
   "metadata": {},
   "outputs": [
    {
     "name": "stdout",
     "output_type": "stream",
     "text": [
      "Name: John \n",
      "Age: 23\n"
     ]
    }
   ],
   "source": [
    "age = 23\n",
    "print(\"Name: %s \\nAge: %d\" % (name, age))"
   ]
  },
  {
   "cell_type": "code",
   "execution_count": 12,
   "metadata": {},
   "outputs": [
    {
     "name": "stdout",
     "output_type": "stream",
     "text": [
      "Name: John \n",
      "Age: 23\n"
     ]
    }
   ],
   "source": [
    "print(\"Name: %s \\nAge: %d\" % (name, age))"
   ]
  },
  {
   "cell_type": "code",
   "execution_count": 8,
   "metadata": {},
   "outputs": [
    {
     "name": "stdout",
     "output_type": "stream",
     "text": [
      "Name: John, \n",
      "Age:23\n"
     ]
    }
   ],
   "source": [
    "print(f\"Name: {name}, \\nAge:{age}\")"
   ]
  },
  {
   "cell_type": "code",
   "execution_count": null,
   "metadata": {},
   "outputs": [],
   "source": [
    "data = (\"John\", 23)\n",
    "print(\"%s has %d years\" % data)"
   ]
  },
  {
   "cell_type": "markdown",
   "metadata": {},
   "source": [
    "`%s` – String\n",
    "\n",
    "`%d` – Integers\n",
    "\n",
    "`%f` – Real nubers\n",
    "\n",
    "`%.<decimal_precision>` – Floating number\n",
    "\n",
    "`%x/%X` – integer numbers in hexagonal system"
   ]
  },
  {
   "cell_type": "code",
   "execution_count": 10,
   "metadata": {},
   "outputs": [
    {
     "name": "stdout",
     "output_type": "stream",
     "text": [
      "a = 4.340000\n",
      "b = 54.432000\n",
      "b = 54.4\n",
      "In HEX 16 is 10\n"
     ]
    }
   ],
   "source": [
    "a = 4.34\n",
    "b = 54.432\n",
    "c = 16\n",
    "\n",
    "print(\"a = %f\" % a)\n",
    "print(\"b = %f\" % b)\n",
    "print(\"b = %.1f\" % b)\n",
    "print(\"In HEX %d is %X\" % (c, c))"
   ]
  },
  {
   "cell_type": "code",
   "execution_count": 11,
   "metadata": {},
   "outputs": [
    {
     "data": {
      "text/plain": [
       "'My name is John and I am 23 years old.'"
      ]
     },
     "execution_count": 11,
     "metadata": {},
     "output_type": "execute_result"
    }
   ],
   "source": [
    "'My name is {} and I am {} years old.'.format(name, age)"
   ]
  },
  {
   "cell_type": "code",
   "execution_count": null,
   "metadata": {},
   "outputs": [],
   "source": [
    "cart = [15,12,10]\n",
    "print(f'You have {len(cart)} items in your cart\\nTotal cost: {sum(cart)}$.')"
   ]
  },
  {
   "cell_type": "markdown",
   "metadata": {},
   "source": [
    "# Task: \n",
    "format this data into message string\n",
    "\n",
    "```python\n",
    "brand, model, year = \"Nissan\", \"Navara\", 2007\n",
    "```"
   ]
  },
  {
   "cell_type": "code",
   "execution_count": 14,
   "metadata": {},
   "outputs": [
    {
     "name": "stdout",
     "output_type": "stream",
     "text": [
      "This car is Nissan Navara of year 2007\n"
     ]
    }
   ],
   "source": [
    "brand, model, year = \"Nissan\", \"Navara\", 2007\n",
    "print(f\"This car is {brand} {model} of year {year}\")"
   ]
  },
  {
   "cell_type": "markdown",
   "metadata": {},
   "source": [
    "# Operations on Strings"
   ]
  },
  {
   "cell_type": "code",
   "execution_count": 15,
   "metadata": {},
   "outputs": [
    {
     "data": {
      "text/plain": [
       "'My name is John'"
      ]
     },
     "execution_count": 15,
     "metadata": {},
     "output_type": "execute_result"
    }
   ],
   "source": [
    "t = \"My name is John\"\n",
    "t"
   ]
  },
  {
   "cell_type": "code",
   "execution_count": 16,
   "metadata": {},
   "outputs": [
    {
     "data": {
      "text/plain": [
       "15"
      ]
     },
     "execution_count": 16,
     "metadata": {},
     "output_type": "execute_result"
    }
   ],
   "source": [
    "len(t)"
   ]
  },
  {
   "cell_type": "code",
   "execution_count": 17,
   "metadata": {},
   "outputs": [
    {
     "data": {
      "text/plain": [
       "'aaaaaaaaaa'"
      ]
     },
     "execution_count": 17,
     "metadata": {},
     "output_type": "execute_result"
    }
   ],
   "source": [
    "\"a\" * 10"
   ]
  },
  {
   "cell_type": "code",
   "execution_count": 18,
   "metadata": {},
   "outputs": [
    {
     "name": "stdout",
     "output_type": "stream",
     "text": [
      "0\n",
      "3\n"
     ]
    }
   ],
   "source": [
    "n = \"abcdeabcde\"\n",
    "print(n.index(\"a\")) # 0\n",
    "print(n.index(\"d\")) # 3"
   ]
  },
  {
   "cell_type": "code",
   "execution_count": 19,
   "metadata": {},
   "outputs": [
    {
     "name": "stdout",
     "output_type": "stream",
     "text": [
      "5\n",
      "2\n"
     ]
    }
   ],
   "source": [
    "n = \"abrakadabra\"\n",
    "print(n.count(\"a\"))  # 5\n",
    "print(n.count(\"ab\")) # 2"
   ]
  },
  {
   "cell_type": "code",
   "execution_count": 20,
   "metadata": {},
   "outputs": [
    {
     "name": "stdout",
     "output_type": "stream",
     "text": [
      "c\n"
     ]
    }
   ],
   "source": [
    "n = \"abcdefghijk\"\n",
    "print(n[2]) # c"
   ]
  },
  {
   "cell_type": "code",
   "execution_count": 21,
   "metadata": {},
   "outputs": [
    {
     "name": "stdout",
     "output_type": "stream",
     "text": [
      "defg\n"
     ]
    }
   ],
   "source": [
    "n = \"abcdefghijklmnop\"\n",
    "print(n[3:7]) # defg"
   ]
  },
  {
   "cell_type": "code",
   "execution_count": 22,
   "metadata": {},
   "outputs": [
    {
     "name": "stdout",
     "output_type": "stream",
     "text": [
      "abcd\n",
      "abcd\n",
      "abcdefg\n",
      "efg\n",
      "efg\n"
     ]
    }
   ],
   "source": [
    "n = \"abcdefg\"\n",
    "\n",
    "print(n[0:4]) # abcd\n",
    "print(n[:4])  # abcd\n",
    "print(n[::])  # whole string\n",
    "\n",
    "print(n[4:len(n)]) # efg\n",
    "print(n[4:])       # efg"
   ]
  },
  {
   "cell_type": "code",
   "execution_count": null,
   "metadata": {},
   "outputs": [],
   "source": [
    "n = \"abcdef\"\n",
    "print(n[-1])    # f\n",
    "print(n[-4:-2]) # cd\n",
    "print(n[-4:])   # cdef\n",
    "print(n[:-2])   # abcd"
   ]
  },
  {
   "cell_type": "code",
   "execution_count": null,
   "metadata": {},
   "outputs": [],
   "source": [
    "n = \"Hello\"\n",
    "print(n.upper()) # HELLO\n",
    "print(n.lower()) # hello"
   ]
  },
  {
   "cell_type": "code",
   "execution_count": null,
   "metadata": {},
   "outputs": [],
   "source": [
    "n = \"Hello Al\"\n",
    "print(n.startswith(\"Hello\")) # True\n",
    "print(n.startswith(\"Hi\")) # False\n",
    "print(n.endswith(\"Al\"))     # True\n",
    "print(n.endswith(\"World\")) # False"
   ]
  },
  {
   "cell_type": "code",
   "execution_count": 23,
   "metadata": {},
   "outputs": [
    {
     "name": "stdout",
     "output_type": "stream",
     "text": [
      "['My', 'name', 'is', 'John']\n"
     ]
    }
   ],
   "source": [
    "n = \"My name is John\"\n",
    "tab = n.split(\" \")\n",
    "print(tab)"
   ]
  },
  {
   "cell_type": "markdown",
   "metadata": {},
   "source": [
    "# Task: \n",
    "write code that extract information from this strings:\n",
    "\n",
    "```python\n",
    "msg1 = \"Hi, my name is Alice, I play piano and I'm 15\"\n",
    "msg2 = \"Hi, my name is John, I play sax and I'm 17\"\n",
    "msg3 = \"Hi, my name is Ben, I play drumms and I'm 12\"\n",
    "# YOUR CODE HERE\n",
    "# ...\n",
    "# YOUR CODE HERE\n",
    "name = ...\n",
    "instrument = ...\n",
    "age = ...\n",
    "```"
   ]
  },
  {
   "cell_type": "code",
   "execution_count": null,
   "metadata": {},
   "outputs": [],
   "source": [
    "..."
   ]
  },
  {
   "cell_type": "markdown",
   "metadata": {},
   "source": [
    "# Escape characters"
   ]
  },
  {
   "cell_type": "code",
   "execution_count": 24,
   "metadata": {},
   "outputs": [
    {
     "data": {
      "text/plain": [
       "\"This is Linode's documentation site.\""
      ]
     },
     "execution_count": 24,
     "metadata": {},
     "output_type": "execute_result"
    }
   ],
   "source": [
    "'This is Linode\\'s documentation site.'"
   ]
  },
  {
   "cell_type": "code",
   "execution_count": 25,
   "metadata": {},
   "outputs": [
    {
     "data": {
      "text/plain": [
       "'One line\\nnext line.'"
      ]
     },
     "execution_count": 25,
     "metadata": {},
     "output_type": "execute_result"
    }
   ],
   "source": [
    "'One line\\nnext line.'"
   ]
  },
  {
   "cell_type": "code",
   "execution_count": 26,
   "metadata": {},
   "outputs": [
    {
     "name": "stdout",
     "output_type": "stream",
     "text": [
      "One line\n",
      "next line.\n"
     ]
    }
   ],
   "source": [
    "print('One line\\nnext line.')"
   ]
  },
  {
   "cell_type": "code",
   "execution_count": 27,
   "metadata": {},
   "outputs": [
    {
     "name": "stdout",
     "output_type": "stream",
     "text": [
      "Tabulator\texample\n"
     ]
    }
   ],
   "source": [
    "print('Tabulator\\texample')"
   ]
  },
  {
   "cell_type": "markdown",
   "metadata": {},
   "source": [
    "# Task: \n",
    "print string with content: \n",
    "\n",
    "[ \\ ^ $ . | ? * + ( )\n"
   ]
  },
  {
   "cell_type": "markdown",
   "metadata": {},
   "source": [
    "# Other String Functions"
   ]
  },
  {
   "cell_type": "code",
   "execution_count": 28,
   "metadata": {},
   "outputs": [
    {
     "data": {
      "text/plain": [
       "'example'"
      ]
     },
     "execution_count": 28,
     "metadata": {},
     "output_type": "execute_result"
    }
   ],
   "source": [
    "'   example '.strip()"
   ]
  },
  {
   "cell_type": "code",
   "execution_count": 29,
   "metadata": {},
   "outputs": [
    {
     "data": {
      "text/plain": [
       "'This string has five words'"
      ]
     },
     "execution_count": 29,
     "metadata": {},
     "output_type": "execute_result"
    }
   ],
   "source": [
    "' '.join(['This', 'string', 'has', 'five', 'words'])"
   ]
  },
  {
   "cell_type": "code",
   "execution_count": 30,
   "metadata": {},
   "outputs": [
    {
     "data": {
      "text/plain": [
       "'one,two,three,four,five'"
      ]
     },
     "execution_count": 30,
     "metadata": {},
     "output_type": "execute_result"
    }
   ],
   "source": [
    "','.join(['one', 'two', 'three', 'four', 'five'])"
   ]
  },
  {
   "cell_type": "markdown",
   "metadata": {},
   "source": [
    "# Task: \n",
    "format this data to look like a business card:\n",
    "\n",
    "```python\n",
    "name = \"John\"\n",
    "surname = \"Smith\"\n",
    "company = \"Campol\"\n",
    "mail = \"johnsmith@campol.com\"\n",
    "phone = 492739273\n",
    "```"
   ]
  },
  {
   "cell_type": "code",
   "execution_count": 31,
   "metadata": {},
   "outputs": [
    {
     "name": "stdout",
     "output_type": "stream",
     "text": [
      "\n",
      "----------------------------------------\n",
      "| Name:      John Smith\n",
      "| Company:   Campol\n",
      "| Email:     johnsmith@campol.com\n",
      "| Phone:     492739273\n",
      "----------------------------------------\n",
      "\n"
     ]
    }
   ],
   "source": [
    "name = \"John\"\n",
    "surname = \"Smith\"\n",
    "company = \"Campol\"\n",
    "mail = \"johnsmith@campol.com\"\n",
    "phone = 492739273\n",
    "\n",
    "business_card = f\"\"\"\n",
    "----------------------------------------\n",
    "| Name:      {name} {surname}\n",
    "| Company:   {company}\n",
    "| Email:     {mail}\n",
    "| Phone:     {phone}\n",
    "----------------------------------------\n",
    "\"\"\"\n",
    "\n",
    "print(business_card)"
   ]
  },
  {
   "cell_type": "code",
   "execution_count": null,
   "metadata": {},
   "outputs": [],
   "source": []
  }
 ],
 "metadata": {
  "kernelspec": {
   "display_name": "Python 3 (ipykernel)",
   "language": "python",
   "name": "python3"
  },
  "language_info": {
   "codemirror_mode": {
    "name": "ipython",
    "version": 3
   },
   "file_extension": ".py",
   "mimetype": "text/x-python",
   "name": "python",
   "nbconvert_exporter": "python",
   "pygments_lexer": "ipython3",
   "version": "3.12.0"
  },
  "toc": {
   "base_numbering": 1,
   "nav_menu": {},
   "number_sections": true,
   "sideBar": true,
   "skip_h1_title": false,
   "title_cell": "Table of Contents",
   "title_sidebar": "Contents",
   "toc_cell": false,
   "toc_position": {},
   "toc_section_display": true,
   "toc_window_display": false
  }
 },
 "nbformat": 4,
 "nbformat_minor": 4
}
